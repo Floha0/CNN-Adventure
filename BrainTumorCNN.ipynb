{
 "cells": [
  {
   "cell_type": "markdown",
   "id": "408141cd-57bc-4c1a-9fa9-77c4d4bbfc87",
   "metadata": {},
   "source": [
    "# Gerekli Kütüphaneleri Import Ediyorum"
   ]
  },
  {
   "cell_type": "code",
   "execution_count": 1,
   "id": "589a4f51-808c-4ef8-bffa-dce4e1e2a3e6",
   "metadata": {},
   "outputs": [],
   "source": [
    "import pandas as pd\n",
    "import matplotlib.pyplot as plt\n",
    "import numpy as np\n",
    "from seaborn import histplot\n",
    "\n",
    "from sklearn.metrics import f1_score, accuracy_score\n",
    "\n",
    "import torch\n",
    "import torch.nn as nn\n",
    "import torch.optim as optim\n",
    "import torch.nn.init as init\n",
    "from torchvision import transforms\n",
    "from torch.utils.data import Dataset, TensorDataset, DataLoader\n",
    "\n",
    "import os\n",
    "from PIL import Image"
   ]
  },
  {
   "cell_type": "markdown",
   "id": "78f348dc-1caf-4311-bad1-b0880513659f",
   "metadata": {},
   "source": [
    "## Directions\n",
    "Directionları giriyorum. İlk başlarda dataseti import ederken hata aldığım için izinleri kontrol ediyorum.  \n",
    "2. train_dir'in sebebi kodu daha hızlı çalıştırmak ve bug fix aşamasını daha hızlı yapmak için dataseti ayırmam. orijinal olan dataset 'original' klasörü altında."
   ]
  },
  {
   "cell_type": "code",
   "execution_count": 2,
   "id": "cab896ba-a244-419f-85c3-f0e6461bab03",
   "metadata": {},
   "outputs": [
    {
     "name": "stdout",
     "output_type": "stream",
     "text": [
      "True\n",
      "True\n",
      "True\n"
     ]
    }
   ],
   "source": [
    "train_dir = os.path.join(os.getcwd(), 'brain-tumor')\n",
    "train_dir = os.path.join(train_dir, 'train')\n",
    "#train_dir = os.path.join(train_dir, 'original')\n",
    "images_dir = os.path.join(train_dir, 'images')\n",
    "labels_dir = os.path.join(train_dir, 'labels')\n",
    "print(os.access(images_dir, os.R_OK))  # Check read permission\n",
    "print(os.access(images_dir, os.W_OK))  # Check write permission\n",
    "print(os.access(images_dir, os.X_OK))  # Check execute permission"
   ]
  },
  {
   "cell_type": "markdown",
   "id": "54091c12-92f3-49cd-a736-9918c46aca36",
   "metadata": {},
   "source": [
    "## Karşılıksız Dosyaları Silme"
   ]
  },
  {
   "cell_type": "code",
   "execution_count": 3,
   "id": "985d93f7-8070-4fba-a2f9-5c441df070f9",
   "metadata": {},
   "outputs": [],
   "source": [
    "labels = set(file.split('.')[0] for file in os.listdir(labels_dir))\n",
    "images = set(file.split('.')[0] for file in os.listdir(images_dir))\n",
    "\n",
    "for file in images - labels:\n",
    "    os.remove(os.path.join(images_dir, file + '.jpg'))"
   ]
  },
  {
   "cell_type": "markdown",
   "id": "53d897df-c8e4-43ce-a4c5-14342f8124c0",
   "metadata": {},
   "source": [
    "# Dataset import class'ı\n",
    "image'lerin hepsi jpg ile bittiği için diğer uzantıları eklemedim.  \n",
    "\n",
    "getitem'da image'leri siyah-beyaz olarak istedim. Label'larda ise ilk değeri aldım. batch için unsqueeze ile ekstra dimension ekledim. ileride squeeze kullanacağım. Örnek olarak:  \n",
    "> label = 1\n",
    "> 1. int(1) -> 1\n",
    "> 2. torch.tensor(1, dtype=torch.float32) -> tensor(1.0)\n",
    "> 3. tensor(1.0).unsqueeze(0) -> tensor([1.0]) (shape (1,))\n",
    "\n",
    "Olası hata durumlarını ayıklamak için try except ile düzeltmelerimi yaptım. Başta dediğim gibi directionlardan kaynaklanan sorunlar aldım, izinleri kontrol etmek işe yaradı."
   ]
  },
  {
   "cell_type": "code",
   "execution_count": 4,
   "id": "69853b44-086a-4612-8fb9-c0a19b7e25e5",
   "metadata": {},
   "outputs": [],
   "source": [
    "class BrainTumorDataset(Dataset):\n",
    "    def __init__(self, images_dir, labels_dir, transform = None):\n",
    "        self.images_dir = images_dir\n",
    "        self.labels_dir = labels_dir\n",
    "        self.transform = transform\n",
    "        \n",
    "        self.image_filenames = sorted([os.path.splitext(f)[0] for f in os.listdir(images_dir) if f.lower().endswith(('.jpg'))])\n",
    "    def __len__(self):\n",
    "        return len(self.image_filenames)\n",
    "    def __getitem__(self, idx):\n",
    "        img_name = self.image_filenames[idx]\n",
    "        image_path = os.path.join(self.images_dir, img_name + '.jpg')\n",
    "        label_path = os.path.join(self.labels_dir, img_name + '.txt')\n",
    "\n",
    "        try:\n",
    "            image = Image.open(image_path)\n",
    "            image = image.convert('L') # ensure black and white\n",
    "            \n",
    "            with open(label_path, 'r') as f:\n",
    "                label = int(f.read().strip()[0])  # Convert '0'/'1' to integer\n",
    "            label = torch.tensor(int(label), dtype=torch.float32).unsqueeze(0)\n",
    "\n",
    "\n",
    "            if self.transform:\n",
    "                image = self.transform(image)\n",
    "\n",
    "            return image, label\n",
    "        except FileNotFoundError:\n",
    "            print(f\"Warning: Image or label file not found for {img_name}. Skipping.\")\n",
    "            return self.__getitem__((idx + 1) % len(self)) # Return the next item (handles edge cases)\n",
    "        except Exception as e: # Catch other potential issues\n",
    "            print(f\"Error loading image or label for {img_name}: {e}. Skipping.\")\n",
    "            return self.__getitem__((idx + 1) % len(self)) # Return the next item (handles edge cases)\n"
   ]
  },
  {
   "cell_type": "markdown",
   "id": "13d2989a-7d2d-435a-a12a-b65ec32b293e",
   "metadata": {},
   "source": [
    "## Load Dataset\n",
    "Transformation'ları tanımladm.  \n",
    "Batch ayarlarını yaptım ve train_loader ile uygun hale getirdim.  "
   ]
  },
  {
   "cell_type": "code",
   "execution_count": 5,
   "id": "1b54a9e6-0e96-4d33-933f-74825e4634c6",
   "metadata": {},
   "outputs": [
    {
     "name": "stdout",
     "output_type": "stream",
     "text": [
      "Image shape: torch.Size([1, 512, 512]), Label: tensor([1.])\n",
      "Image shape: torch.Size([1, 512, 512]), Label: tensor([1.])\n",
      "Image shape: torch.Size([1, 512, 512]), Label: tensor([1.])\n",
      "Image shape: torch.Size([1, 512, 512]), Label: tensor([1.])\n",
      "Image shape: torch.Size([1, 512, 512]), Label: tensor([1.])\n",
      "Image shape: torch.Size([1, 512, 512]), Label: tensor([1.])\n",
      "Image shape: torch.Size([1, 512, 512]), Label: tensor([1.])\n",
      "Image shape: torch.Size([1, 512, 512]), Label: tensor([1.])\n",
      "Image shape: torch.Size([1, 512, 512]), Label: tensor([1.])\n",
      "Image shape: torch.Size([1, 512, 512]), Label: tensor([1.])\n",
      "Image shape: torch.Size([1, 512, 512]), Label: tensor([1.])\n",
      "Image shape: torch.Size([1, 512, 512]), Label: tensor([1.])\n",
      "Image shape: torch.Size([1, 512, 512]), Label: tensor([1.])\n",
      "Image shape: torch.Size([1, 512, 512]), Label: tensor([1.])\n",
      "Image shape: torch.Size([1, 512, 512]), Label: tensor([1.])\n",
      "Image shape: torch.Size([1, 512, 512]), Label: tensor([1.])\n",
      "Image shape: torch.Size([1, 512, 512]), Label: tensor([1.])\n",
      "Image shape: torch.Size([1, 512, 512]), Label: tensor([1.])\n",
      "Image shape: torch.Size([1, 512, 512]), Label: tensor([1.])\n",
      "Image shape: torch.Size([1, 512, 512]), Label: tensor([0.])\n",
      "Image shape: torch.Size([1, 512, 512]), Label: tensor([0.])\n",
      "Image shape: torch.Size([1, 512, 512]), Label: tensor([0.])\n",
      "Image shape: torch.Size([1, 512, 512]), Label: tensor([0.])\n"
     ]
    }
   ],
   "source": [
    "# Define transformations\n",
    "data_transforms = transforms.Compose([\n",
    "    transforms.Resize((512, 512)),  # Ensure correct size\n",
    "    transforms.ToTensor(),\n",
    "    transforms.Normalize(mean=[0.5], std=[0.5])  # Normalize grayscale images\n",
    "])\n",
    "\n",
    "dataset = BrainTumorDataset(images_dir, labels_dir, transform=data_transforms)\n",
    "\n",
    "batch_size = 32\n",
    "train_loader = DataLoader(dataset, batch_size=batch_size, shuffle=True)\n",
    "\n",
    "# Accessing data:\n",
    "for i in range(len(dataset)):\n",
    "    image, label = dataset[i]\n",
    "    print(f\"Image shape: {image.shape}, Label: {label}\")"
   ]
  },
  {
   "cell_type": "code",
   "execution_count": 6,
   "id": "6936c6bc-dcfd-44cb-81e5-ca5fe0afeafb",
   "metadata": {},
   "outputs": [
    {
     "data": {
      "image/png": "[encoded data removed]",
      "text/plain": [
       "<Figure size 600x400 with 1 Axes>"
      ]
     },
     "metadata": {},
     "output_type": "display_data"
    }
   ],
   "source": [
    "_labels_np = torch.tensor([label for _, label in dataset]).numpy()\n",
    "plt.figure(figsize=(6, 4))\n",
    "\n",
    "# Histogram visualization to see frequency distribution\n",
    "plt.hist(_labels_np, bins=10, color='skyblue', edgecolor='black')\n",
    "plt.xlabel(\"Value Range\")\n",
    "plt.ylabel(\"Frequency\")\n",
    "\n",
    "# Show plot\n",
    "plt.show()"
   ]
  },
  {
   "cell_type": "code",
   "execution_count": 7,
   "id": "413265b6-8fc3-45ad-b429-01351349b650",
   "metadata": {},
   "outputs": [],
   "source": [
    "class SimpleCNN(nn.Module):\n",
    "    def __init__(self): # Will not add in channels parameter, assuming black and white which only has 1 channel\n",
    "        super(SimpleCNN, self).__init__()\n",
    "        self.conv1 = nn.Conv2d(in_channels=1, out_channels=8, kernel_size=(3,3), stride=(1,1), padding=(1,1))\n",
    "        self.pool = nn.MaxPool2d(kernel_size=(2,2), stride=(2,2))\n",
    "        self.conv2 = nn.Conv2d(in_channels=8, out_channels=16, kernel_size=(3,3), stride=(1,1), padding=(1,1))\n",
    "\n",
    "        # 16 out channels, 128x128 remaining res.\n",
    "        self.fc1 = nn.Linear(16 * 128 * 128, 128)  \n",
    "        self.fc2 = nn.Linear(128, 1)  # Output layer for binary classification\n",
    "        \n",
    "    def forward(self, x):\n",
    "        x = nn.ReLU()(self.conv1(x)) # First step\n",
    "        x = self.pool(x)\n",
    "        \n",
    "        x = nn.ReLU()(self.conv2(x)) # Second step\n",
    "        x = self.pool(x)\n",
    "        \n",
    "        x = x.view(-1, 16 * 128 * 128)  # Flatten\n",
    "        # safer alternatives:\n",
    "        # x = x.view(x.shape[0], -1)\n",
    "        # x = x.reshape(x.shape[0], -1)\n",
    "        \n",
    "        x = nn.ReLU()(self.fc1(x))\n",
    "        x = torch.sigmoid(self.fc2(x))  # Sigmoid for binary classification\n",
    "        return x"
   ]
  },
  {
   "cell_type": "code",
   "execution_count": 8,
   "id": "dc93c309-c997-45e0-a2ff-2c6be8110db7",
   "metadata": {},
   "outputs": [],
   "source": [
    "model = SimpleCNN()"
   ]
  },
  {
   "cell_type": "code",
   "execution_count": 9,
   "id": "f234391f-2fa6-403d-ae9e-5263e98b34ca",
   "metadata": {},
   "outputs": [],
   "source": [
    "# Cross-Entropy Loss Function\n",
    "criterion  = nn.BCEWithLogitsLoss()"
   ]
  },
  {
   "cell_type": "code",
   "execution_count": 10,
   "id": "75957296-b78f-40c0-96db-8324f62aaf19",
   "metadata": {},
   "outputs": [],
   "source": [
    "learning_rate = 0.001\n",
    "optimizer = optim.Adam(model.parameters(), lr=learning_rate)"
   ]
  },
  {
   "cell_type": "markdown",
   "id": "a0b6b5a6-42c6-4889-b8e3-e512429d60aa",
   "metadata": {},
   "source": [
    "### num_epochs\n",
    "num_epochs'u farklı farklı sayılarda denememe rağmen her zaman ilk değere eşit geldi. O yüzden 1 yapacaktım fakat farklılık olma ihtimaline karşılık gözlemliyim diye 2 yapıyorum."
   ]
  },
  {
   "cell_type": "code",
   "execution_count": 11,
   "id": "7b177d3a-6a84-402d-81b1-4e8c4fd74001",
   "metadata": {},
   "outputs": [
    {
     "name": "stdout",
     "output_type": "stream",
     "text": [
      "Epoch [1/2], Loss: 1.3133\n",
      "Epoch [2/2], Loss: 1.3133\n"
     ]
    }
   ],
   "source": [
    "num_epochs = 2\n",
    "device = torch.device(\"cuda\" if torch.cuda.is_available() else \"cpu\")\n",
    "model = model.to(device)\n",
    "for epoch in range(num_epochs):\n",
    "    model.train()\n",
    "    for images, labels in dataset:\n",
    "        images = images.to(device)\n",
    "        labels = labels.to(device)\n",
    "\n",
    "        outputs = model(images).squeeze(1)  # Forward pass\n",
    "        labels = labels.view(-1)  # Ensure labels have shape [batch_size]\n",
    "        loss = criterion(outputs, labels)  # Compute loss\n",
    "        \n",
    "        optimizer.zero_grad()   # Clear previous gradients\n",
    "        loss.backward()  # Backpropagation (compute gradients)\n",
    "        \n",
    "        optimizer.step()  # Update weights\n",
    "    \n",
    "    print(f'Epoch [{epoch+1}/{num_epochs}], Loss: {loss.item():.4f}')"
   ]
  },
  {
   "cell_type": "code",
   "execution_count": 12,
   "id": "49a5ee25-e353-4f26-9a3d-f20a11b7e642",
   "metadata": {},
   "outputs": [
    {
     "ename": "TypeError",
     "evalue": "iteration over a 0-d array",
     "output_type": "error",
     "traceback": [
      "\u001b[1;31m---------------------------------------------------------------------------\u001b[0m",
      "\u001b[1;31mTypeError\u001b[0m                                 Traceback (most recent call last)",
      "Cell \u001b[1;32mIn[12], line 25\u001b[0m\n\u001b[0;32m     22\u001b[0m     f1 \u001b[38;5;241m=\u001b[39m f1_score(all_labels, all_preds)\n\u001b[0;32m     24\u001b[0m     \u001b[38;5;28;01mreturn\u001b[39;00m accuracy, f1\n\u001b[1;32m---> 25\u001b[0m accuracy, f1 \u001b[38;5;241m=\u001b[39m \u001b[43mbinary_classification_metrics\u001b[49m\u001b[43m(\u001b[49m\u001b[43mmodel\u001b[49m\u001b[43m,\u001b[49m\u001b[43m \u001b[49m\u001b[43mdataset\u001b[49m\u001b[43m,\u001b[49m\u001b[43m \u001b[49m\u001b[43mdevice\u001b[49m\u001b[43m)\u001b[49m\n\u001b[0;32m     26\u001b[0m \u001b[38;5;28mprint\u001b[39m(\u001b[38;5;124mf\u001b[39m\u001b[38;5;124m'\u001b[39m\u001b[38;5;124mAccuracy: \u001b[39m\u001b[38;5;132;01m{\u001b[39;00maccuracy\u001b[38;5;132;01m:\u001b[39;00m\u001b[38;5;124m.4f\u001b[39m\u001b[38;5;132;01m}\u001b[39;00m\u001b[38;5;124m, F1 Score: \u001b[39m\u001b[38;5;132;01m{\u001b[39;00mf1\u001b[38;5;132;01m:\u001b[39;00m\u001b[38;5;124m.4f\u001b[39m\u001b[38;5;132;01m}\u001b[39;00m\u001b[38;5;124m'\u001b[39m)\n",
      "Cell \u001b[1;32mIn[12], line 17\u001b[0m, in \u001b[0;36mbinary_classification_metrics\u001b[1;34m(model, dataloader, device)\u001b[0m\n\u001b[0;32m     14\u001b[0m         probs \u001b[38;5;241m=\u001b[39m torch\u001b[38;5;241m.\u001b[39msigmoid(outputs)\u001b[38;5;241m.\u001b[39msqueeze()  \u001b[38;5;66;03m# Apply sigmoid to get probabilities\u001b[39;00m\n\u001b[0;32m     15\u001b[0m         preds \u001b[38;5;241m=\u001b[39m (probs \u001b[38;5;241m>\u001b[39m \u001b[38;5;241m0.5\u001b[39m)\u001b[38;5;241m.\u001b[39mfloat()  \u001b[38;5;66;03m# Thresholding at 0.5 for binary classification\u001b[39;00m\n\u001b[1;32m---> 17\u001b[0m         \u001b[43mall_preds\u001b[49m\u001b[38;5;241;43m.\u001b[39;49m\u001b[43mextend\u001b[49m\u001b[43m(\u001b[49m\u001b[43mpreds\u001b[49m\u001b[38;5;241;43m.\u001b[39;49m\u001b[43mcpu\u001b[49m\u001b[43m(\u001b[49m\u001b[43m)\u001b[49m\u001b[38;5;241;43m.\u001b[39;49m\u001b[43mnumpy\u001b[49m\u001b[43m(\u001b[49m\u001b[43m)\u001b[49m\u001b[43m)\u001b[49m  \u001b[38;5;66;03m# Move to CPU and append to list\u001b[39;00m\n\u001b[0;32m     18\u001b[0m         all_labels\u001b[38;5;241m.\u001b[39mextend(labels\u001b[38;5;241m.\u001b[39mcpu()\u001b[38;5;241m.\u001b[39mnumpy())  \u001b[38;5;66;03m# Same for labels\u001b[39;00m\n\u001b[0;32m     20\u001b[0m \u001b[38;5;66;03m# Calculate accuracy and F1 score\u001b[39;00m\n",
      "\u001b[1;31mTypeError\u001b[0m: iteration over a 0-d array"
     ]
    }
   ],
   "source": [
    "def binary_classification_metrics(model, dataloader, device):\n",
    "    model.eval()  # Set model to evaluation mode\n",
    "    all_preds = []\n",
    "    all_labels = []\n",
    "\n",
    "    with torch.no_grad():  # No need to compute gradients for evaluation\n",
    "        for images, labels in dataloader:\n",
    "            images, labels = images.to(device), labels.to(device)\n",
    "\n",
    "            # Get predictions from CNN\n",
    "            outputs = model(images)  # Forward pass through the CNN\n",
    "\n",
    "            # Apply sigmoid to logits and threshold to get binary predictions\n",
    "            probs = torch.sigmoid(outputs).squeeze()  # Apply sigmoid to get probabilities\n",
    "            preds = (probs > 0.5).float()  # Thresholding at 0.5 for binary classification\n",
    "\n",
    "            all_preds.extend(preds.cpu().numpy())  # Move to CPU and append to list\n",
    "            all_labels.extend(labels.cpu().numpy())  # Same for labels\n",
    "\n",
    "    # Calculate accuracy and F1 score\n",
    "    accuracy = accuracy_score(all_labels, all_preds)\n",
    "    f1 = f1_score(all_labels, all_preds)\n",
    "\n",
    "    return accuracy, f1\n",
    "accuracy, f1 = binary_classification_metrics(model, dataset, device)\n",
    "print(f'Accuracy: {accuracy:.4f}, F1 Score: {f1:.4f}')"
   ]
  },
  {
   "cell_type": "code",
   "execution_count": null,
   "id": "f35dd082-9a13-405f-8cd5-ccb841d8af82",
   "metadata": {},
   "outputs": [],
   "source": []
  }
 ],
 "metadata": {
  "kernelspec": {
   "display_name": "Python 3 (ipykernel)",
   "language": "python",
   "name": "python3"
  },
  "language_info": {
   "codemirror_mode": {
    "name": "ipython",
    "version": 3
   },
   "file_extension": ".py",
   "mimetype": "text/x-python",
   "name": "python",
   "nbconvert_exporter": "python",
   "pygments_lexer": "ipython3",
   "version": "3.11.4"
  }
 },
 "nbformat": 4,
 "nbformat_minor": 5
}
